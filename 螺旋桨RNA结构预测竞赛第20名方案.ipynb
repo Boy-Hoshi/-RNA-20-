{
 "cells": [
  {
   "cell_type": "markdown",
   "metadata": {
    "collapsed": false
   },
   "source": [
    "##### For English, please click <a href=\"#header-en\">here</a> to redirect"
   ]
  },
  {
   "cell_type": "markdown",
   "metadata": {
    "collapsed": false
   },
   "source": [
    "<h1 id=\"header-ch\">RNA碱基不成对概率预测的基线模型</h1>\n",
    "\n",
    "\n",
    "RNA结构预测竞赛：RNA碱基不成对概率预测基线模型现已开放，采用非常简单的网络模型，就能得到还不错的结果。欢迎开发者贡献更好的基线作品~"
   ]
  },
  {
   "cell_type": "markdown",
   "metadata": {
    "collapsed": false
   },
   "source": [
    "# 赛题介绍\n",
    "\n",
    "“RNA碱基不成对概率”衡量了RNA序列在各个点位是否能形成稳定的碱基对（base pair），是RNA结构的重要属性，并可被应用在mRNA疫苗序列设计、药物研发等领域。例如mRNA疫苗序列通常不稳定，而RNA碱基不成对概率较高的点位正是易被降解的位置；又如RNA 碱基不成对概率较高的点位通常更容易与其他RNA序列相互作用，形成RNA-RNA binding等，这一特性也被广泛应用于疾病诊断和RNA药物研发。\n",
    "\n",
    "本次比赛提供了5000条训练数据，请选手基于训练数据和飞桨平台，开发模型预测RNA碱基不成对概率。\n",
    "\n",
    "（<span style='color:red'>Tips：机器学习框架方面只允许使用飞桨深度学习框架哦</span>）"
   ]
  },
  {
   "cell_type": "markdown",
   "metadata": {
    "collapsed": false
   },
   "source": [
    "# 竞赛数据集 "
   ]
  },
  {
   "cell_type": "code",
   "execution_count": null,
   "metadata": {
    "collapsed": false
   },
   "outputs": [],
   "source": [
    "# 检查数据集所在路径\n",
    "!tree /home/aistudio/data"
   ]
  },
  {
   "cell_type": "markdown",
   "metadata": {
    "collapsed": false
   },
   "source": [
    "# 基线系统代码结构\n",
    "\n",
    "本次基线基于飞桨PaddlePaddle2.0版本。"
   ]
  },
  {
   "cell_type": "code",
   "execution_count": 3,
   "metadata": {
    "collapsed": false
   },
   "outputs": [
    {
     "name": "stdout",
     "output_type": "stream",
     "text": [
      "/home/aistudio/work\r\n",
      "├── data\r\n",
      "│   ├── dev.txt\r\n",
      "│   ├── test_nolabel.txt\r\n",
      "│   └── train.txt\r\n",
      "├── model\r\n",
      "│   └── placeholder.txt\r\n",
      "├── model-0\r\n",
      "│   └── model_dev=0.0772\r\n",
      "├── README.txt\r\n",
      "├── src\r\n",
      "│   ├── const.py\r\n",
      "│   ├── dataset.py\r\n",
      "│   ├── __init__.py\r\n",
      "│   ├── main.py\r\n",
      "│   ├── network.py\r\n",
      "│   ├── utils.py\r\n",
      "│   └── vocabulary.py\r\n",
      "├── test_log.txt\r\n",
      "└── train_log.txt\r\n",
      "\r\n",
      "5 directories, 14 files\r\n"
     ]
    }
   ],
   "source": [
    "# 检查源代码文件结构\n",
    "# !cd work; mkdir model\n",
    "!tree /home/aistudio/work -L 2"
   ]
  },
  {
   "cell_type": "markdown",
   "metadata": {
    "collapsed": false
   },
   "source": [
    "## 训练脚本\n",
    "\n",
    "`python src/main.py train --model-path-base [model_directory_name]`\n",
    "\n",
    "本代码会训练一个模型，并且保存到指定位置，训练日志默认保存到文件`train_log.txt`   \n",
    "注意：由于初始化的不稳定，可能需要多次训练，比较合理的验证集(dev)均方误差损失值(MSE loss)为0.05-0.08  \n",
    "\n",
    "#### 样例\n",
    "`python src/main.py train --model-path-base model`\n",
    "\n",
    "#### 你将会看到类似如下的训练日志\n",
    "```\n",
    "epoch 1 batch 40 processed 640 batch-loss 0.1984 epoch-elapsed 0h00m10s total-elapsed 0h00m11s \n",
    "epoch 1 batch 41 processed 656 batch-loss 0.2119 epoch-elapsed 0h00m10s total-elapsed 0h00m11s \n",
    "epoch 1 batch 42 processed 672 batch-loss 0.2205 epoch-elapsed 0h00m11s total-elapsed 0h00m11s \n",
    "epoch 1 batch 43 processed 688 batch-loss 0.2128 epoch-elapsed 0h00m11s total-elapsed 0h00m11s \n",
    "# Dev Average Loss: 0.212 (MSE) -> 0.461 (RMSD)\n",
    "```\n",
    "\n",
    "#### 注意事项\n",
    "请使用<span style='color:red'>GPU版本</span>的配置环境运行本模块"
   ]
  },
  {
   "cell_type": "code",
   "execution_count": null,
   "metadata": {
    "collapsed": false
   },
   "outputs": [],
   "source": [
    "# To train:\n",
    "# python src/main.py train --model-path-base [model_directory_name]\n",
    "\n",
    "!cd work; python src/main.py train --model-path-base model"
   ]
  },
  {
   "cell_type": "markdown",
   "metadata": {
    "collapsed": false
   },
   "source": [
    "## 预测脚本\n",
    "\n",
    "`python src/main.py test --model-path-base [saved_model_directory]`  \n",
    "\n",
    "本代码会预测一个模型，日志和结果默认保存到文件`test_log.txt` \n",
    "\n",
    "#### 样例  \n",
    "1. 用<span style='color:red'>不带标签</span>的测试集来预测：  \n",
    "`python src/main.py test --model-path-base model-0/model_dev\\=0.0772/`\n",
    "2. 用<span style='color:red'>带标签</span>的测试集来预测并评估:  \n",
    "\t`python src/main.py test_withlabel --model-path-base model-0/model_dev\\=0.0772/`  \n",
    "\t样例输出\n",
    "    ```\n",
    "    # python3 src/main.py test_withlabel --model-path-base model-0/model_dev=0.0772\n",
    "    Loading data...\n",
    "    Loading model...\n",
    "    initializing vacabularies... done.\n",
    "    Sequence(6): ['<START>', '<STOP>', 'A', 'C', 'G', 'U']\n",
    "    Brackets(5): ['<START>', '<STOP>', '(', ')', '.']\n",
    "    W0113 21:57:44.871776   221 device_context.cc:252] Please NOTE: device: 0, CUDA Capability: 70, Driver API Version: 11.0, Runtime API Version: 9.0\n",
    "    W0113 21:57:44.878015   221 device_context.cc:260] device: 0, cuDNN Version: 7.6.\n",
    "    #  Dev Average Loss: 0.0772 (MSE) -> 0.2778 (RMSD)\n",
    "    # Test Average Loss: 0.0445 (MSE) -> 0.2111 (RMSD)\n",
    "    ```\n",
    "\n",
    "- 由于比赛的公开数据不提供测试集的标签，故本基线模型无法运行预设的`test_withlabel`，除非用户自己生成一个带标签的测试集`~/data/test.txt`。  \n",
    "\n",
    "\n",
    "\n",
    "\n",
    "#### 注意事项\n",
    "请使用<span style='color:red'>GPU版本</span>的配置环境运行本模块"
   ]
  },
  {
   "cell_type": "code",
   "execution_count": 1,
   "metadata": {
    "collapsed": false
   },
   "outputs": [
    {
     "name": "stdout",
     "output_type": "stream",
     "text": [
      "Loading data...\n",
      "Loading model...\n",
      "W0228 17:12:00.911798  7837 device_context.cc:362] Please NOTE: device: 0, GPU Compute Capability: 7.0, Driver API Version: 10.1, Runtime API Version: 10.1\n",
      "W0228 17:12:00.917215  7837 device_context.cc:372] device: 0, cuDNN Version: 7.6.\n"
     ]
    }
   ],
   "source": [
    "# To test 1:\n",
    "# python src/main.py test --model-path-base [saved_model_directory]\n",
    "\n",
    "!cd work; python src/main.py test --model-path-base model-0/model_dev\\=0.0772"
   ]
  },
  {
   "cell_type": "code",
   "execution_count": 2,
   "metadata": {
    "collapsed": false
   },
   "outputs": [
    {
     "ename": "NameError",
     "evalue": "name 'unzip' is not defined",
     "output_type": "error",
     "traceback": [
      "\u001b[0;31m---------------------------------------------------------------------------\u001b[0m",
      "\u001b[0;31mNameError\u001b[0m                                 Traceback (most recent call last)",
      "\u001b[0;32m<ipython-input-2-805b204a37bf>\u001b[0m in \u001b[0;36m<module>\u001b[0;34m\u001b[0m\n\u001b[0;32m----> 1\u001b[0;31m \u001b[0munzip\u001b[0m \u001b[0;34m-\u001b[0m\u001b[0moq\u001b[0m \u001b[0;34m/\u001b[0m\u001b[0mhome\u001b[0m\u001b[0;34m/\u001b[0m\u001b[0maistudio\u001b[0m\u001b[0;34m/\u001b[0m\u001b[0mwork\u001b[0m\u001b[0;34m/\u001b[0m\u001b[0mpredict\u001b[0m\u001b[0;34m.\u001b[0m\u001b[0mfiles\u001b[0m\u001b[0;34m.\u001b[0m\u001b[0mzip\u001b[0m\u001b[0;34m.\u001b[0m\u001b[0mzip\u001b[0m\u001b[0;34m\u001b[0m\u001b[0;34m\u001b[0m\u001b[0m\n\u001b[0m",
      "\u001b[0;31mNameError\u001b[0m: name 'unzip' is not defined"
     ]
    }
   ],
   "source": [
    "unzip -oq /home/aistudio/work/predict.files.zip.zip"
   ]
  },
  {
   "cell_type": "code",
   "execution_count": null,
   "metadata": {
    "collapsed": false
   },
   "outputs": [],
   "source": [
    "# To test 2:\n",
    "# python src/main.py test_withlabel --model-path-base [saved_model_directory]\n",
    "\n",
    "# 由于比赛的公开数据不提供测试集的标签，故本基线模型无法运行预设的test_withlabel，除非用户自己生成一个带标签的测试集~/data/test.txt\n",
    "#### !cd work; python src/main.py test_withlabel --model-path-base model-0/model_dev\\=0.0772"
   ]
  },
  {
   "cell_type": "markdown",
   "metadata": {
    "collapsed": false
   },
   "source": [
    "# 写在最后 \n",
    "\n",
    "   \n",
    "选手可在基线模型基础上持续改进，也可以采用全新的模型。可以尝试从以下几方面来进行调优:\n",
    "\n",
    "- 输入数据预处理，提取更多feature\n",
    "\t- 基线模型使用LinearFold预测的RNA二级结构作为辅助feature。选手可以尝试增加更多的辅助feature，如：使用其他二级结构预测软件（如Vienna RNAfold, RNAstructure, CONTRAfold等）生成新的二级结构feature。\n",
    "- 更复杂的Embedding形式\n",
    "- 可以尝试在Embedding层使用Elmo, Bert等预训练模型\n",
    "- 优化网络结构和参数\n",
    "\t- 隐层大小选择 - 宽度和层数\n",
    "    - 尝试复杂网络构建\n",
    "    - 尝试正则化、dropout等方式避免过拟合\n",
    "    - 选择学习率等超参数\n",
    "    - 选择合适的损失函数\n",
    "    - 尝试不同的优化器\n",
    "  \n"
   ]
  },
  {
   "cell_type": "markdown",
   "metadata": {
    "collapsed": false
   },
   "source": [
    "\n",
    "\n",
    "---\n",
    "---\n",
    "\n",
    "##### 点击跳转到 <a href=\"#header-ch\">中文</a> 说明"
   ]
  },
  {
   "cell_type": "markdown",
   "metadata": {
    "collapsed": false
   },
   "source": [
    "<h1 id=\"header-en\">Baseline for RNA base unpaired probability</h1>\n",
    "\n",
    "RNA structure prediction contest: The baseline model of RNA base unpairing probability prediction is now released. Using a very simple network model, you can get good results. Developers are welcome to contribute better baseline works~"
   ]
  },
  {
   "cell_type": "markdown",
   "metadata": {
    "collapsed": false
   },
   "source": [
    "# About the challange\n",
    "\n",
    "\"RNA base unpaired probability\" measures whether the RNA sequence can form a stable base pair at certain point. It is an important attribute of RNA structure and can be used in the design of mRNA vaccine sequence, drug development and other fields. For example, mRNA vaccine sequences are usually unstable, and the points with a higher probability of unpaired RNA bases are the positions that are easily degraded; another example is the points with higher probability of unpaired RNA bases are usually more likely to interact with other RNA sequences, with the formation of RNA-RNA binding, etc. This feature is also widely used in disease diagnosis and RNA drug development.\n",
    "\n",
    "This competition provides 5000 training data. You are asked to develop a model to predict the unpaired probability of RNA bases, given the training data and PaddlePaddle platform.\n",
    "\n",
    "（<span style='color:red'>Tips：Machine learning models can be only developed with PaddlePaddle deep learning frameworks</span>）"
   ]
  },
  {
   "cell_type": "markdown",
   "metadata": {
    "collapsed": false
   },
   "source": [
    "# Dataset for RNA contest"
   ]
  },
  {
   "cell_type": "code",
   "execution_count": null,
   "metadata": {
    "collapsed": false
   },
   "outputs": [],
   "source": [
    "# check dataset\n",
    "!tree /home/aistudio/data"
   ]
  },
  {
   "cell_type": "markdown",
   "metadata": {
    "collapsed": false
   },
   "source": [
    "# Baseline system\n",
    "\n",
    "This baseline is developed with PaddlePaddle2.0.  "
   ]
  },
  {
   "cell_type": "code",
   "execution_count": 4,
   "metadata": {
    "collapsed": false
   },
   "outputs": [
    {
     "name": "stdout",
     "output_type": "stream",
     "text": [
      "/home/aistudio/work\r\n",
      "├── data\r\n",
      "│   ├── dev.txt\r\n",
      "│   ├── test_nolabel.txt\r\n",
      "│   └── train.txt\r\n",
      "├── model\r\n",
      "│   └── placeholder.txt\r\n",
      "├── model-0\r\n",
      "│   └── model_dev=0.0772\r\n",
      "├── README.txt\r\n",
      "├── src\r\n",
      "│   ├── const.py\r\n",
      "│   ├── dataset.py\r\n",
      "│   ├── __init__.py\r\n",
      "│   ├── main.py\r\n",
      "│   ├── network.py\r\n",
      "│   ├── utils.py\r\n",
      "│   └── vocabulary.py\r\n",
      "├── test_log.txt\r\n",
      "└── train_log.txt\r\n",
      "\r\n",
      "5 directories, 14 files\r\n"
     ]
    }
   ],
   "source": [
    "# check codebase\n",
    "# !cd work; mkdir model\n",
    "!tree /home/aistudio/work -L 2"
   ]
  },
  {
   "cell_type": "markdown",
   "metadata": {
    "collapsed": false
   },
   "source": [
    "## To train\n",
    "\n",
    "`python src/main.py train --model-path-base [model_directory_name]`\n",
    "\n",
    "This will train a paddle model and save it in the specified directory. Training log will be outputed to `train_log.txt` by default.    \n",
    "Note: You may need to train a few times, as the model might have bad initialization and may not train well. (A dev MSE loss of about 0.05-0.08 is good)\n",
    "\n",
    "\n",
    "#### Example\n",
    "`python src/main.py train --model-path-base model`\n",
    "\n",
    "#### training log like this\n",
    "```\n",
    "epoch 1 batch 40 processed 640 batch-loss 0.1984 epoch-elapsed 0h00m10s total-elapsed 0h00m11s \n",
    "epoch 1 batch 41 processed 656 batch-loss 0.2119 epoch-elapsed 0h00m10s total-elapsed 0h00m11s \n",
    "epoch 1 batch 42 processed 672 batch-loss 0.2205 epoch-elapsed 0h00m11s total-elapsed 0h00m11s \n",
    "epoch 1 batch 43 processed 688 batch-loss 0.2128 epoch-elapsed 0h00m11s total-elapsed 0h00m11s \n",
    "# Dev Average Loss: 0.212 (MSE) -> 0.461 (RMSD)\n",
    "```\n",
    "\n",
    "#### Note\n",
    "Please use <span style='color:red'>GPU/CUDA</span> configuration to run this block  \n",
    "\n",
    "\n"
   ]
  },
  {
   "cell_type": "code",
   "execution_count": null,
   "metadata": {
    "collapsed": false
   },
   "outputs": [],
   "source": [
    "# To train:\n",
    "# python src/main.py train --model-path-base [model_directory_name]\n",
    "\n",
    "!cd work; python src/main.py train --model-path-base model"
   ]
  },
  {
   "cell_type": "markdown",
   "metadata": {
    "collapsed": false
   },
   "source": [
    "## To test\n",
    "\n",
    "`python src/main.py test --model-path-base [saved_model_directory]`  \n",
    "\n",
    "This will evaluate a trained model.  Testing log will be outputed to `test_log.txt` by default.      \n",
    "\n",
    "\n",
    "#### Example\n",
    "1. if you have <span style='color:red'>blind testset</span> to predict:  \n",
    "`python src/main.py test --model-path-base model-0/model_dev\\=0.0772/`\n",
    "2. if you have <span style='color:red'>full testset</span> (with label) to predict and validate:  \n",
    "\t`python src/main.py test_withlabel --model-path-base model-0/model_dev\\=0.0772/`  \n",
    "\tOutpit like this:\n",
    "    ```\n",
    "    # python3 src/main.py test_withlabel --model-path-base model-0/model_dev=0.0772\n",
    "    Loading data...\n",
    "    Loading model...\n",
    "    initializing vacabularies... done.\n",
    "    Sequence(6): ['<START>', '<STOP>', 'A', 'C', 'G', 'U']\n",
    "    Brackets(5): ['<START>', '<STOP>', '(', ')', '.']\n",
    "    W0113 21:57:44.871776   221 device_context.cc:252] Please NOTE: device: 0, CUDA Capability: 70, Driver API Version: 11.0, Runtime API Version: 9.0\n",
    "    W0113 21:57:44.878015   221 device_context.cc:260] device: 0, cuDNN Version: 7.6.\n",
    "    #  Dev Average Loss: 0.0772 (MSE) -> 0.2778 (RMSD)\n",
    "    # Test Average Loss: 0.0445 (MSE) -> 0.2111 (RMSD)\n",
    "    ```\n",
    "\n",
    "- Since we don't offer labelled testset in baseline, you may not run `test_withlabel` unless you create `~/data/test.txt` by yourself. \n",
    "\n",
    "\n",
    "#### Note\n",
    "Please use <span style='color:red'>GPU/CUDA</span> configuration to run this block  "
   ]
  },
  {
   "cell_type": "code",
   "execution_count": null,
   "metadata": {
    "collapsed": false
   },
   "outputs": [],
   "source": [
    "# To test 1:\n",
    "# python src/main.py test --model-path-base [saved_model_directory]\n",
    "\n",
    "!cd work; python src/main.py test --model-path-base model-0/model_dev\\=0.0772"
   ]
  },
  {
   "cell_type": "code",
   "execution_count": null,
   "metadata": {
    "collapsed": false
   },
   "outputs": [],
   "source": [
    "# To test 2:\n",
    "# python src/main.py test_withlabel --model-path-base [saved_model_directory]\n",
    "\n",
    "# since we don't offer labelled testset, you may not run the following command unless you create ~/data/test.txt by yourself\n",
    "#### !cd work; python src/main.py test_withlabel --model-path-base model-0/model_dev\\=0.0772"
   ]
  },
  {
   "cell_type": "markdown",
   "metadata": {
    "collapsed": false
   },
   "source": [
    "# One more thing\n",
    "\n",
    "You can continue to improve on the basis of the baseline model, or use a brand new model. You can try to tune from the following aspects:\n",
    "\n",
    "- Preprocess input data to extract more features. The baseline model uses the RNA secondary structure predicted from **LinearFold** as parts of features. You can try to add more features with other secondary structure prediction software (Vienna RNAfold, RNAstructure, CONTRAfold, etc.)\n",
    "- More complex embedding\n",
    "- Use pre-trained models such as Elmo and Bert in the Embedding layer\n",
    "- Optimize network structure and parameters\n",
    "\t- Hidden layer size selection-width and number of layers\n",
    "\t- Try complex network architecture\n",
    "\t- Try regularization, dropout, etc. to avoid overfitting\n",
    "\t- Optimize hyperparameters such as learning rate\n",
    "\t- Choose a good loss function\n",
    "\t- Try different optimizers\n"
   ]
  }
 ],
 "metadata": {
  "kernelspec": {
   "display_name": "PaddlePaddle 2.0.0b0 (Python 3.5)",
   "language": "python",
   "name": "py35-paddle1.2.0"
  },
  "language_info": {
   "codemirror_mode": {
    "name": "ipython",
    "version": 3
   },
   "file_extension": ".py",
   "mimetype": "text/x-python",
   "name": "python",
   "nbconvert_exporter": "python",
   "pygments_lexer": "ipython3",
   "version": "3.7.4"
  }
 },
 "nbformat": 4,
 "nbformat_minor": 1
}
